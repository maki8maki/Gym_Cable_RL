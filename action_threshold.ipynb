{
 "cells": [
  {
   "cell_type": "code",
   "execution_count": 2,
   "metadata": {},
   "outputs": [],
   "source": [
    "import numpy as np\n",
    "import matplotlib.pyplot as plt"
   ]
  },
  {
   "cell_type": "code",
   "execution_count": 51,
   "metadata": {},
   "outputs": [],
   "source": [
    "data = np.load(\"data/white/execute.npz\")\n",
    "ac = data[\"ac\"]\n",
    "pos = data[\"pos\"]\n",
    "ori = data[\"ori\"]\n",
    "w = 0.25\n",
    "\n",
    "min = 0.0\n",
    "max = 1.0\n",
    "step = 0.01"
   ]
  },
  {
   "cell_type": "code",
   "execution_count": 52,
   "metadata": {},
   "outputs": [
    {
     "name": "stderr",
     "output_type": "stream",
     "text": [
      "/tmp/ipykernel_2446714/561890897.py:5: UserWarning: FigureCanvasAgg is non-interactive, and thus cannot be shown\n",
      "  fig.show()\n"
     ]
    },
    {
     "data": {
      "image/png": "[encoded data removed]",
      "text/plain": [
       "<Figure size 640x480 with 1 Axes>"
      ]
     },
     "metadata": {},
     "output_type": "display_data"
    }
   ],
   "source": [
    "fig = plt.figure()\n",
    "ax = fig.add_subplot(1,1,1)\n",
    "\n",
    "n, bins, pathces = ax.hist(ac, bins=np.arange(min, max+step, step=step))\n",
    "fig.show()"
   ]
  },
  {
   "cell_type": "code",
   "execution_count": 54,
   "metadata": {},
   "outputs": [
    {
     "name": "stdout",
     "output_type": "stream",
     "text": [
      "[ 34. 205. 253. 163.  81.  43.  19.  10.  12.  14.  24.  24.  15.   3.\n",
      "   0.   0.   0.   0.   0.   0.   0.   0.   0.   0.   0.   0.   0.   0.\n",
      "   0.   0.   0.   0.   0.   0.   0.   0.   0.   0.   0.   0.   0.   0.\n",
      "   0.   0.   0.   0.   0.   0.   0.   0.   0.   0.   1.  17.  18.  13.\n",
      "   4.   9.   2.   8.   2.   9.  10.   7.   0.   0.   0.   0.   0.   0.\n",
      "   0.   0.   0.   0.   0.   0.   0.   0.   0.   0.   0.   0.   0.   0.\n",
      "   0.   0.   0.   0.   0.   0.   0.   0.   0.   0.   0.   0.   0.   0.\n",
      "   0.   0.]\n",
      "52\n"
     ]
    }
   ],
   "source": [
    "print(n)\n",
    "\n",
    "print(np.argmax(n==1))"
   ]
  },
  {
   "cell_type": "code",
   "execution_count": 55,
   "metadata": {},
   "outputs": [
    {
     "name": "stdout",
     "output_type": "stream",
     "text": [
      "0.14\n"
     ]
    }
   ],
   "source": [
    "def otsu_score(data: np.ndarray, mean: np.ndarray, threshold: float) -> float:\n",
    "    d0 = data[data<=threshold]\n",
    "    d1 = data[data>threshold]\n",
    "\n",
    "    w0 = d0.shape[0] / data.shape[0]\n",
    "    w1 = d1.shape[0] / data.shape[0]\n",
    "\n",
    "    if (w0==0) or (w1==0):\n",
    "        return 0\n",
    "\n",
    "    mean0 = d0.mean()\n",
    "    mean1 = d1.mean()\n",
    "    sigma2_b = w0 * (mean0 - mean)**2 + w1 * (mean1 - mean)**2\n",
    "\n",
    "    return sigma2_b\n",
    "\n",
    "def otsu_threshold(data: np.ndarray, step: float, min: float = None, max: float = None) -> float:\n",
    "    if min is None:\n",
    "        min = data.min()\n",
    "    if max is None:\n",
    "        max = data.max()\n",
    "\n",
    "    mean = data.mean()\n",
    "\n",
    "    threshold = min\n",
    "    max_score = 0\n",
    "    for thresh in np.arange(min, max+step, step=step):\n",
    "        score = otsu_score(data, mean, thresh)\n",
    "        if score > max_score:\n",
    "            max_score = score\n",
    "            threshold = thresh\n",
    "\n",
    "    return threshold\n",
    "\n",
    "threshold = otsu_threshold(ac, step, min, max)\n",
    "print(threshold)"
   ]
  },
  {
   "cell_type": "code",
   "execution_count": 56,
   "metadata": {},
   "outputs": [
    {
     "name": "stdout",
     "output_type": "stream",
     "text": [
      "0.13526160944376658\n"
     ]
    }
   ],
   "source": [
    "def kmeans_threshold(data: np.ndarray) -> float:\n",
    "    OPTIMIZE_EPSILON = 0.01\n",
    "\n",
    "    labels = np.random.randint(0, 2, data.shape[0])\n",
    "\n",
    "    m0_pre = -np.inf\n",
    "    m1_pre = np.inf\n",
    "\n",
    "    for _ in range(1000):\n",
    "        m0 = data[labels == 0].mean()\n",
    "        m1 = data[labels == 1].mean()\n",
    "\n",
    "        labels[np.abs(data-m0) < np.abs(data-m1)] = 0\n",
    "        labels[np.abs(data-m0) >= np.abs(data-m1)] = 1\n",
    "\n",
    "        if np.abs(m0-m0_pre) < OPTIMIZE_EPSILON and np.abs(m1-m1_pre) < OPTIMIZE_EPSILON:\n",
    "            break\n",
    "\n",
    "        m0_pre = m0\n",
    "        m1_pre = m1\n",
    "\n",
    "    return np.minimum(data[labels == 0].max(), data[labels == 1].max())\n",
    "\n",
    "threshold = kmeans_threshold(ac)\n",
    "print(threshold)"
   ]
  },
  {
   "cell_type": "code",
   "execution_count": 58,
   "metadata": {},
   "outputs": [
    {
     "name": "stdout",
     "output_type": "stream",
     "text": [
      "3 99\n",
      "0.535\n"
     ]
    }
   ],
   "source": [
    "def get_gaus(size: int, sigma: float):\n",
    "    kernel = np.zeros(size)\n",
    "    i0 = size // 2\n",
    "    for i in range(size):\n",
    "        kernel[i] = np.exp(-(i-i0)**2 / (2*sigma**2))\n",
    "\n",
    "    kernel /= kernel.sum()\n",
    "\n",
    "    return kernel\n",
    "\n",
    "def sezan_threshold(data: np.ndarray, step: float, min: float = None, max: float = None) -> float:\n",
    "    if min is None:\n",
    "        min = data.min()\n",
    "    if max is None:\n",
    "        max = data.max()\n",
    "\n",
    "    sigma = 0.5\n",
    "    size = 20\n",
    "    gamma = 0.5\n",
    "\n",
    "    kernel = get_gaus(size, sigma)\n",
    "    num_hist, range_hist = np.histogram(data, np.arange(min, max+step, step))\n",
    "    mean_hist = (range_hist[1:] + range_hist[:-1]) / 2\n",
    "\n",
    "    hist_bar = np.convolve(num_hist, kernel, 'same')\n",
    "    d_hist = hist_bar[:-1] - hist_bar[1:]\n",
    "    d_hist = np.r_[[0],d_hist,[0]]\n",
    "\n",
    "    m = np.where((d_hist[1:] >=0) & (d_hist[:-1] <=0))[0]\n",
    "    es =np.where((d_hist[1:] <=0) & (d_hist[:-1] >=0))[0]\n",
    "    m0 = m.min()\n",
    "    m1 = m.max()\n",
    "    print(m0, m1)\n",
    "    # s0 = es[es<m0].max()\n",
    "    e0 = es[es>m0].min()\n",
    "    s1 = es[es<m1].max()\n",
    "    # e1 = es[es>m1].min()\n",
    "    # print(s0, e0, s1, e1)\n",
    "\n",
    "    return  (1 - gamma) * mean_hist[e0] + gamma * mean_hist[s1]\n",
    "\n",
    "threshold = sezan_threshold(ac, step, min, max)\n",
    "print(threshold)"
   ]
  },
  {
   "cell_type": "code",
   "execution_count": null,
   "metadata": {},
   "outputs": [],
   "source": []
  }
 ],
 "metadata": {
  "kernelspec": {
   "display_name": ".venv",
   "language": "python",
   "name": "python3"
  },
  "language_info": {
   "codemirror_mode": {
    "name": "ipython",
    "version": 3
   },
   "file_extension": ".py",
   "mimetype": "text/x-python",
   "name": "python",
   "nbconvert_exporter": "python",
   "pygments_lexer": "ipython3",
   "version": "3.10.12"
  }
 },
 "nbformat": 4,
 "nbformat_minor": 2
}
